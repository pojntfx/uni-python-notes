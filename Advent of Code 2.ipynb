{
 "cells": [
  {
   "cell_type": "markdown",
   "id": "earned-uncertainty",
   "metadata": {},
   "source": [
    "# Advent of Code 2"
   ]
  },
  {
   "cell_type": "markdown",
   "id": "alpine-pakistan",
   "metadata": {},
   "source": [
    "## Exercise 1"
   ]
  },
  {
   "cell_type": "code",
   "execution_count": 1,
   "id": "crude-cooling",
   "metadata": {},
   "outputs": [],
   "source": [
    "def parse_line(line):\n",
    "    limits, letter, password = line.split(\" \")\n",
    "    \n",
    "    letter = letter[:1] # Drop the \":\"\n",
    "    \n",
    "    limits = [int(limit) for limit in limits.split(\"-\")]\n",
    "    \n",
    "    return letter, limits, password"
   ]
  },
  {
   "cell_type": "code",
   "execution_count": 2,
   "id": "understood-fitting",
   "metadata": {},
   "outputs": [],
   "source": [
    "def is_valid(letter, limits, password):\n",
    "    occurances = password.count(letter)\n",
    "    \n",
    "    return min(limits) <= occurances <= max(limits)"
   ]
  },
  {
   "cell_type": "code",
   "execution_count": 3,
   "id": "distributed-anime",
   "metadata": {},
   "outputs": [
    {
     "name": "stdout",
     "output_type": "stream",
     "text": [
      "536\n"
     ]
    }
   ],
   "source": [
    "with open(\"inputs/2.txt\") as input:\n",
    "    all_passwords = [parse_line(line) for line in input.read().splitlines()]\n",
    "    valid_passwords = []\n",
    "    \n",
    "    for letter, limits, password in all_passwords:\n",
    "        if is_valid(letter, limits, password):\n",
    "            valid_passwords.append(password)\n",
    "\n",
    "    print(len(valid_passwords))"
   ]
  }
 ],
 "metadata": {
  "kernelspec": {
   "display_name": "Python 3",
   "language": "python",
   "name": "python3"
  },
  "language_info": {
   "codemirror_mode": {
    "name": "ipython",
    "version": 3
   },
   "file_extension": ".py",
   "mimetype": "text/x-python",
   "name": "python",
   "nbconvert_exporter": "python",
   "pygments_lexer": "ipython3",
   "version": "3.7.3"
  }
 },
 "nbformat": 4,
 "nbformat_minor": 5
}
