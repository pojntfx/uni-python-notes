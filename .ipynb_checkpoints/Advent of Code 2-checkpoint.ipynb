{
 "cells": [
  {
   "cell_type": "markdown",
   "id": "coral-jordan",
   "metadata": {},
   "source": [
    "# Advent of Code 2"
   ]
  },
  {
   "cell_type": "markdown",
   "id": "regulation-affairs",
   "metadata": {},
   "source": [
    "## Exercise 1"
   ]
  },
  {
   "cell_type": "code",
   "execution_count": 1,
   "id": "experienced-zealand",
   "metadata": {},
   "outputs": [],
   "source": [
    "def parse_line(line):\n",
    "    limits, letter, password = line.split(\" \")\n",
    "    \n",
    "    letter = letter[:1] # Drop the \":\"\n",
    "    \n",
    "    lower_limit, upper_limit = limits.split(\"-\")\n",
    "    lower_limit, upper_limit = int(lower_limit), int(upper_limit)\n",
    "    \n",
    "    return letter, ( lower_limit, upper_limit ), password"
   ]
  },
  {
   "cell_type": "code",
   "execution_count": 2,
   "id": "clean-wireless",
   "metadata": {},
   "outputs": [],
   "source": [
    "def is_valid(letter, limits, password):\n",
    "    occurances = password.count(letter)\n",
    "    \n",
    "    if occurances >= limits[0] and occurances <= limits[1]:\n",
    "        return True\n",
    "    else:\n",
    "        return False"
   ]
  },
  {
   "cell_type": "code",
   "execution_count": 3,
   "id": "practical-breed",
   "metadata": {},
   "outputs": [
    {
     "name": "stdout",
     "output_type": "stream",
     "text": [
      "536\n"
     ]
    }
   ],
   "source": [
    "with open(\"inputs/2.txt\") as input:\n",
    "    all_passwords = [parse_line(line) for line in input.read().splitlines()]\n",
    "    valid_passwords = []\n",
    "    \n",
    "    for letter, limits, password in all_passwords:\n",
    "        if is_valid(letter, limits, password):\n",
    "            valid_passwords.append(password)\n",
    "\n",
    "    print(len(valid_passwords))"
   ]
  }
 ],
 "metadata": {
  "kernelspec": {
   "display_name": "Python 3",
   "language": "python",
   "name": "python3"
  },
  "language_info": {
   "codemirror_mode": {
    "name": "ipython",
    "version": 3
   },
   "file_extension": ".py",
   "mimetype": "text/x-python",
   "name": "python",
   "nbconvert_exporter": "python",
   "pygments_lexer": "ipython3",
   "version": "3.7.3"
  }
 },
 "nbformat": 4,
 "nbformat_minor": 5
}
