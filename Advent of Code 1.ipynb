{
 "cells": [
  {
   "cell_type": "markdown",
   "metadata": {},
   "source": [
    "# Advent of Code 1"
   ]
  },
  {
   "cell_type": "code",
   "execution_count": 1,
   "metadata": {},
   "outputs": [
    {
     "name": "stdout",
     "output_type": "stream",
     "text": [
      "1018 1002 1020036\n"
     ]
    }
   ],
   "source": [
    "with open(\"./inputs/1.txt\") as input:\n",
    "    numbers = [int(line) for line in input.read().splitlines()]\n",
    "    \n",
    "    for i, num1 in enumerate(numbers):\n",
    "        for num2 in numbers[i + 1:]:\n",
    "            if num1 + num2 == 2020:\n",
    "                print(num1, num2, num1 * num2)"
   ]
  }
 ],
 "metadata": {
  "kernelspec": {
   "display_name": "Python 3",
   "language": "python",
   "name": "python3"
  },
  "language_info": {
   "codemirror_mode": {
    "name": "ipython",
    "version": 3
   },
   "file_extension": ".py",
   "mimetype": "text/x-python",
   "name": "python",
   "nbconvert_exporter": "python",
   "pygments_lexer": "ipython3",
   "version": "3.7.3"
  }
 },
 "nbformat": 4,
 "nbformat_minor": 4
}
