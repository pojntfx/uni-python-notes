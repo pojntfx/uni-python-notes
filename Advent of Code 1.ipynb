{
 "metadata": {
  "language_info": {
   "codemirror_mode": {
    "name": "ipython",
    "version": 3
   },
   "file_extension": ".py",
   "mimetype": "text/x-python",
   "name": "python",
   "nbconvert_exporter": "python",
   "pygments_lexer": "ipython3",
   "version": "3.7.3-final"
  },
  "orig_nbformat": 2,
  "kernelspec": {
   "name": "python3",
   "display_name": "Python 3.7.3 64-bit",
   "metadata": {
    "interpreter": {
     "hash": "31f2aee4e71d21fbe5cf8b01ff0e069b9275f58929596ceb00d14d90e3e16cd6"
    }
   }
  }
 },
 "nbformat": 4,
 "nbformat_minor": 2,
 "cells": [
  {
   "source": [
    "# Advent of Code 1"
   ],
   "cell_type": "markdown",
   "metadata": {}
  },
  {
   "cell_type": "code",
   "execution_count": 16,
   "metadata": {},
   "outputs": [],
   "source": [
    "input = open(\"./inputs/1.txt\")"
   ]
  },
  {
   "cell_type": "code",
   "execution_count": 18,
   "metadata": {},
   "outputs": [],
   "source": [
    "input.seek(0)\n",
    "content = input.read()"
   ]
  },
  {
   "cell_type": "code",
   "execution_count": 19,
   "metadata": {},
   "outputs": [
    {
     "output_type": "stream",
     "name": "stdout",
     "text": [
      "1981\n1415\n1767\n1725\n1656\n1860\n1272\n1582\n1668\n1202\n1360\n1399\n1517\n1063\n1773\n1194\n1104\n1652\n1316\n1883\n1117\n522\n1212\n1081\n1579\n1571\n1393\n243\n1334\n1934\n1912\n1784\n1648\n1881\n1362\n1974\n1592\n1639\n1578\n1650\n1771\n1384\n1374\n1569\n1785\n1964\n1910\n1787\n1865\n1373\n1678\n1708\n1147\n1426\n1323\n855\n1257\n1497\n1326\n1764\n1793\n1993\n1926\n1387\n1441\n1332\n1018\n1949\n1807\n1431\n1933\n2009\n1840\n1628\n475\n1601\n1903\n1294\n1942\n1080\n1817\n1848\n1097\n1600\n1833\n1665\n1919\n1408\n1963\n1140\n1558\n1847\n1491\n1367\n1826\n1454\n1714\n2003\n1378\n1301\n1520\n1269\n1820\n1252\n1760\n1135\n1893\n1904\n1956\n1344\n1743\n1358\n1489\n1174\n1675\n1765\n1093\n1543\n1940\n1634\n1778\n1732\n1423\n1308\n1855\n962\n1873\n1692\n1485\n1766\n1287\n1388\n1671\n1002\n1524\n1891\n1627\n1155\n1185\n1122\n1603\n1989\n1343\n1745\n1868\n1166\n1253\n1136\n1803\n1733\n1310\n1762\n1319\n1930\n1637\n1726\n1446\n266\n1121\n1851\n1819\n1284\n1959\n1449\n1965\n1687\n1079\n1808\n1839\n1626\n1359\n1935\n1247\n1932\n1951\n1318\n1597\n1268\n643\n1938\n1741\n1721\n1640\n1238\n1976\n1237\n1960\n1805\n1757\n1990\n1276\n1157\n1469\n1794\n1914\n1982\n1115\n1907\n1846\n1674\n"
     ]
    }
   ],
   "source": [
    "for number in content.split(\"\\n\"):\n",
    "    print(number)"
   ]
  },
  {
   "cell_type": "code",
   "execution_count": 14,
   "metadata": {},
   "outputs": [],
   "source": [
    "input.close()"
   ]
  }
 ]
}